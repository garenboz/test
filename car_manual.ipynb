{
 "cells": [
  {
   "cell_type": "code",
   "execution_count": 1,
   "metadata": {},
   "outputs": [],
   "source": [
    "import pandas as pd\n",
    "import openai\n",
    "import json\n",
    "import streamlit as st\n",
    "from streamlit_chat import message\n"
   ]
  },
  {
   "cell_type": "code",
   "execution_count": null,
   "metadata": {},
   "outputs": [],
   "source": [
    "openai.api_type='azure'\n",
    "openai.api_base='https://oai-bo-azwe-prod-csr.openai.azure.com/'\n",
    "openai.api_key='f8ce8085901b45c4992f16b31a44071b'\n",
    "openai.api_version='2022-12-01'"
   ]
  },
  {
   "cell_type": "code",
   "execution_count": null,
   "metadata": {},
   "outputs": [],
   "source": [
    "pre_prompt = \"\"\"\n",
    "    Ön izlemeli hız özelliği fonksiyon kısıtlamaları aşağıdaki gibidir.\n",
    "    Bu fonksiyon ör. aşağıdaki durumlarda sınırlandırılabilir ve bazen hatalı görüntülere neden olabilir:\n",
    "    Trafik işaretleri nesnelerle, etiketlerle veya boya ile tamamen veya kısmen örtüldüğünde.\n",
    "    Önde giden bir araca çok yaklaşıldığında.\n",
    "    Geçersiz, eskimiş veya mevcut olmayan navigasyon verilerinde.\n",
    "    Navigasyon sistemi dahilinde dikkate alınmayan bölgelerde.\n",
    "    Navigasyondan sapma olduğunda, ör. değişen yol ayrımlarında.\n",
    "    Elektronik trafik işaretlerinde.\n",
    "    Yapıştırılmış trafik işareti olan otobüsleri veyakamyonları sollarken.\n",
    "    Trafik işaretleri normlara uygun değilse.\n",
    "    Paralel yol için geçerli olan trafik işaretlerininalgılanmasında.\n",
    "    Ülkelere özgü trafik işaretlerinde veya yol ayrımlarında\n",
    "\n",
    "    Yukarıdaki bilgiler ışığında sorulara cevap ver.\n",
    "\"\"\"\n",
    "\n",
    "response = openai.Completion.create(\n",
    "    engine='oai-bo-davinci003',\n",
    "    prompt=pre_prompt,\n",
    "    max_tokens=1000\n",
    ")\n",
    "analiz = response['choices'][0]['text']\n",
    "print(analiz)"
   ]
  },
  {
   "cell_type": "code",
   "execution_count": 4,
   "metadata": {},
   "outputs": [],
   "source": [
    "\n",
    "message(\"My message\") \n",
    "message(\"Hello bot!\", is_user=True)"
   ]
  }
 ],
 "metadata": {
  "kernelspec": {
   "display_name": "Python 3",
   "language": "python",
   "name": "python3"
  },
  "language_info": {
   "codemirror_mode": {
    "name": "ipython",
    "version": 3
   },
   "file_extension": ".py",
   "mimetype": "text/x-python",
   "name": "python",
   "nbconvert_exporter": "python",
   "pygments_lexer": "ipython3",
   "version": "3.10.6"
  },
  "orig_nbformat": 4
 },
 "nbformat": 4,
 "nbformat_minor": 2
}

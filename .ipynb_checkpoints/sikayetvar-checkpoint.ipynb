{
 "cells": [
  {
   "cell_type": "code",
   "execution_count": 59,
   "metadata": {},
   "outputs": [
    {
     "name": "stderr",
     "output_type": "stream",
     "text": [
      "WARNING: Ignoring invalid distribution -zureml-dataprep-rslex (c:\\users\\bsedef\\anaconda3\\lib\\site-packages)\n",
      "WARNING: Ignoring invalid distribution -zureml-dataprep-rslex (c:\\users\\bsedef\\anaconda3\\lib\\site-packages)\n",
      "WARNING: Ignoring invalid distribution -zureml-dataprep-rslex (c:\\users\\bsedef\\anaconda3\\lib\\site-packages)\n",
      "WARNING: Ignoring invalid distribution -zureml-dataprep-rslex (c:\\users\\bsedef\\anaconda3\\lib\\site-packages)\n",
      "WARNING: Ignoring invalid distribution -zureml-dataprep-rslex (c:\\users\\bsedef\\anaconda3\\lib\\site-packages)\n",
      "WARNING: Ignoring invalid distribution -zureml-dataprep-rslex (c:\\users\\bsedef\\anaconda3\\lib\\site-packages)\n"
     ]
    },
    {
     "name": "stdout",
     "output_type": "stream",
     "text": [
      "Requirement already satisfied: openai in c:\\users\\bsedef\\anaconda3\\lib\\site-packages (0.27.0)\n",
      "Requirement already satisfied: aiohttp in c:\\users\\bsedef\\anaconda3\\lib\\site-packages (from openai) (3.8.1)\n",
      "Requirement already satisfied: requests>=2.20 in c:\\users\\bsedef\\anaconda3\\lib\\site-packages (from openai) (2.27.1)\n",
      "Requirement already satisfied: tqdm in c:\\users\\bsedef\\anaconda3\\lib\\site-packages (from openai) (4.64.0)\n",
      "Requirement already satisfied: certifi>=2017.4.17 in c:\\users\\bsedef\\anaconda3\\lib\\site-packages (from requests>=2.20->openai) (2021.10.8)\n",
      "Requirement already satisfied: idna<4,>=2.5 in c:\\users\\bsedef\\anaconda3\\lib\\site-packages (from requests>=2.20->openai) (3.3)\n",
      "Requirement already satisfied: urllib3<1.27,>=1.21.1 in c:\\users\\bsedef\\anaconda3\\lib\\site-packages (from requests>=2.20->openai) (1.26.9)\n",
      "Requirement already satisfied: charset-normalizer~=2.0.0 in c:\\users\\bsedef\\anaconda3\\lib\\site-packages (from requests>=2.20->openai) (2.0.4)\n",
      "Requirement already satisfied: yarl<2.0,>=1.0 in c:\\users\\bsedef\\anaconda3\\lib\\site-packages (from aiohttp->openai) (1.6.3)\n",
      "Requirement already satisfied: aiosignal>=1.1.2 in c:\\users\\bsedef\\anaconda3\\lib\\site-packages (from aiohttp->openai) (1.2.0)\n",
      "Requirement already satisfied: multidict<7.0,>=4.5 in c:\\users\\bsedef\\anaconda3\\lib\\site-packages (from aiohttp->openai) (5.1.0)\n",
      "Requirement already satisfied: frozenlist>=1.1.1 in c:\\users\\bsedef\\anaconda3\\lib\\site-packages (from aiohttp->openai) (1.2.0)\n",
      "Requirement already satisfied: async-timeout<5.0,>=4.0.0a3 in c:\\users\\bsedef\\anaconda3\\lib\\site-packages (from aiohttp->openai) (4.0.1)\n",
      "Requirement already satisfied: attrs>=17.3.0 in c:\\users\\bsedef\\anaconda3\\lib\\site-packages (from aiohttp->openai) (21.4.0)\n",
      "Requirement already satisfied: typing-extensions>=3.6.5 in c:\\users\\bsedef\\anaconda3\\lib\\site-packages (from async-timeout<5.0,>=4.0.0a3->aiohttp->openai) (4.1.1)\n",
      "Requirement already satisfied: colorama in c:\\users\\bsedef\\anaconda3\\lib\\site-packages (from tqdm->openai) (0.4.4)\n"
     ]
    }
   ],
   "source": [
    "!pip install openai"
   ]
  },
  {
   "cell_type": "code",
   "execution_count": 20,
   "metadata": {},
   "outputs": [],
   "source": [
    "import pandas as pd\n",
    "import openai\n",
    "import json"
   ]
  },
  {
   "cell_type": "code",
   "execution_count": 2,
   "metadata": {},
   "outputs": [],
   "source": [
    "openai.api_type='azure'\n",
    "openai.api_base='https://oai-bo-azwe-prod-csr.openai.azure.com/'\n",
    "openai.api_key='f8ce8085901b45c4992f16b31a44071b'\n",
    "openai.api_version='2022-12-01'"
   ]
  },
  {
   "cell_type": "code",
   "execution_count": 60,
   "metadata": {},
   "outputs": [
    {
     "name": "stdout",
     "output_type": "stream",
     "text": [
      "\n",
      " \n",
      "Toplam Şikayet Sayısı: 13\n",
      "\n",
      "Top 5 Şikayet Keywordu (Adetlerine Göre Sırala):\n",
      "1. Kapi Kollari (3)\n",
      "2. Arac Gelmeme (1)\n",
      "3. Kapı Tutamakları (1)\n",
      "4. Lastikler (1)\n",
      "5. Koltuk Isıtma (1)\n",
      "\n",
      "Bu Şikayetlerin Analizi ve Çözüm Önerisi:\n",
      "Bu şikayetlerin çoğu aracın ayarlanamama ve özelliklerinden dolayı ortaya çıkan aksaklıklar üzerinedir. BMW tarafından aracın standartları ile ilgili bir çözüme yönelmeleri önerilmektedir, böylece arac kullanıcılarının mağduriyeti giderilmiş olur. Üretim aşamasında veya servis aşamasında aracın ayarlanıp kontrol edilmesi kimseye zarar vermeyecek. Araca gelmeme konusunda, cevabın adil bir şekilde verilmesi gerekiyor. Son olarak, problemli parçalar konusunda aracı kullanıcılarının mağduriyetinin giderilmesi için ortaya çıkan giderlerin karşılanması önerilmektedir. Böylece aracın kalitesinin üstüne çıkılmış olacak ve arac kullanıcılarının güveni sağlanmış olacaktır.\n"
     ]
    }
   ],
   "source": [
    "df = pd.read_csv('sikayetvar.csv',delimiter=';')\n",
    "df['Metin'] = df['Metin'].str.replace('ı', 'i').str.replace('ö', 'o').str.replace('ü', 'u').str.replace('ğ', 'g').str.replace('ş', 's').str.replace('ç', 'c').str.replace('İ', 'I').str.replace('Ö', 'O').str.replace('Ü', 'U').str.replace('Ğ', 'G').str.replace('Ş', 'S').str.replace('Ç', 'C')\n",
    "df = df.sample(13)\n",
    "df = df['Metin']\n",
    "df = df.reset_index()\n",
    "df = df.drop(columns=['index'])\n",
    "df.to_json('sikayetvar2.json', orient='columns')\n",
    "reviews = open('sikayetvar2.json')\n",
    "reviews = json.load(reviews)\n",
    "response = openai.Completion.create(\n",
    "    engine='oai-bo-davinci003',\n",
    "    prompt=\"Lütfen sana gönderdiğim şikayetlerin adedini say, içeriği analiz et ve bana \\\n",
    "            \\n Toplam şikayet sayisini \\\n",
    "            \\n Top 5 şikayet keywordunu adetlerine göre sirala ve en alta \\\n",
    "            \\n Bu şikayetler ile ilgili analizini ve çözüm önerini en aşağıya yaz \\\n",
    "            \\n Şikayetler: \" + str(reviews) + \"\\n Analiz: \",\n",
    "    max_tokens=1000\n",
    ")\n",
    "analiz = response['choices'][0]['text']\n",
    "print(analiz)"
   ]
  }
 ],
 "metadata": {
  "kernelspec": {
   "display_name": "base",
   "language": "python",
   "name": "python3"
  },
  "language_info": {
   "codemirror_mode": {
    "name": "ipython",
    "version": 3
   },
   "file_extension": ".py",
   "mimetype": "text/x-python",
   "name": "python",
   "nbconvert_exporter": "python",
   "pygments_lexer": "ipython3",
   "version": "3.9.12"
  },
  "orig_nbformat": 4
 },
 "nbformat": 4,
 "nbformat_minor": 2
}
